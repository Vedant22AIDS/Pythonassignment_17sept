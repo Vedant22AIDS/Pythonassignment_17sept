{
 "cells": [
  {
   "cell_type": "code",
   "execution_count": 1,
   "id": "f684f4c0-c9a6-4b97-bd5a-1b595cb79f4f",
   "metadata": {},
   "outputs": [],
   "source": [
    "#For loop"
   ]
  },
  {
   "cell_type": "code",
   "execution_count": 2,
   "id": "231903ac-e438-4965-9f31-77890aaebef5",
   "metadata": {},
   "outputs": [
    {
     "name": "stdout",
     "output_type": "stream",
     "text": [
      "12345678910\n",
      "sum of 100 numbers 5050\n"
     ]
    }
   ],
   "source": [
    "#Que1 Write a Python program to print numbers from 1 to 10 using a for loop.\n",
    "for i in range(1,11):\n",
    "    print(i,end=\"\")\n",
    "print()\n",
    "\n",
    "#Que2 Explain the difference between a for loop and a while loop in Python\n",
    "'''\n",
    "forloop-used when number of iteration is known\n",
    "syntax-for(initilization in iterable/range function)\n",
    "\n",
    "whileloop-used when number of iteration is known\n",
    "syntax-while(condition)\n",
    "'''\n",
    "#Que3 Write a Python program to calculate the sum of all numbers from 1 to 100 using a for loop.\n",
    "sum=0\n",
    "for i in range(1,101):\n",
    "    sum=sum+i\n",
    "print(f\"sum of 100 numbers {sum}\")"
   ]
  },
  {
   "cell_type": "code",
   "execution_count": 4,
   "id": "cd075232-cb56-4190-9f80-0382e78fcc1b",
   "metadata": {},
   "outputs": [
    {
     "name": "stdout",
     "output_type": "stream",
     "text": [
      "1\n",
      "2\n",
      "3\n",
      "4\n",
      "5\n",
      "prodduct is  120\n",
      "0 2 4 6 8 10 12 14 16 18 20 "
     ]
    }
   ],
   "source": [
    "\n",
    "#Que4 How do you iterate through a list using a for loop in Python?\n",
    "#ans - by using in operator\n",
    "li=[1,2,3,4,5]\n",
    "for i in li:\n",
    "    print(i)\n",
    "\n",
    "#Que5 Write a Python program to find the product of all elements in a list using a for loop.\n",
    "prod_of_all=1\n",
    "for i in li:\n",
    "  prod_of_all=prod_of_all*i\n",
    "print(\"prodduct is \",prod_of_all)\n",
    "\n",
    "#Que6 even number from 1 to 20\n",
    "for i in range(0,21,2):\n",
    "    print(i,end=\" \")\n"
   ]
  },
  {
   "cell_type": "code",
   "execution_count": 5,
   "id": "55e2b16d-80bb-452a-b17f-6aa1b5cdca1a",
   "metadata": {},
   "outputs": [
    {
     "name": "stdout",
     "output_type": "stream",
     "text": [
      "Factorial of 5 is 120\n",
      "Hello\n",
      "largest element in list is  5\n"
     ]
    }
   ],
   "source": [
    "#Que7\n",
    "n=5\n",
    "fact=1\n",
    "for i in range(1,n+1):\n",
    "    fact=fact*i\n",
    "print(f\"Factorial of {n} is {fact}\")\n",
    "\n",
    "#Que8 by using in operator\n",
    "str=\"Hello\"\n",
    "for i in str:\n",
    "    print(i,end=\"\")\n",
    "print()\n",
    "\n",
    "#Que9\n",
    "largest=li[0]\n",
    "for i in range(0,len(li)):\n",
    "    if li[i]>li[0]:\n",
    "        largest=li[i]\n",
    "print(\"largest element in list is \",largest)\n"
   ]
  },
  {
   "cell_type": "code",
   "execution_count": 6,
   "id": "99cc33d7-9917-454d-ab04-a04354b46a38",
   "metadata": {},
   "outputs": [
    {
     "name": "stdin",
     "output_type": "stream",
     "text": [
      "Enter the limit for the Fibonacci sequence:  10\n"
     ]
    },
    {
     "name": "stdout",
     "output_type": "stream",
     "text": [
      "Fibonacci sequence up to the limit:\n",
      "[0, 1, 1, 2, 3, 5, 8, 13, 21, 34]\n"
     ]
    }
   ],
   "source": [
    "#Que10\n",
    "def fibonacci_sequence(limit):\n",
    "    fibonacci = []\n",
    "    a, b = 0, 1\n",
    "\n",
    "    for _ in range(limit):\n",
    "        fibonacci.append(a)\n",
    "        a, b = b, a + b\n",
    "\n",
    "    return fibonacci\n",
    "\n",
    "sequence_limit = int(input(\"Enter the limit for the Fibonacci sequence: \"))\n",
    "result = fibonacci_sequence(sequence_limit)\n",
    "\n",
    "print(\"Fibonacci sequence up to the limit:\")\n",
    "print(result)\n"
   ]
  },
  {
   "cell_type": "code",
   "execution_count": 7,
   "id": "0be9debf-e20b-43e8-bd9e-48d6aa3005fb",
   "metadata": {},
   "outputs": [
    {
     "name": "stdout",
     "output_type": "stream",
     "text": [
      "Total vowels in Hello is 2\n",
      "Original list : [1, 2, 3, 4, 5]\n",
      "Reverse list : [5, 4, 3, 2, 1]\n",
      "common elements between list : [1, 2]\n",
      "Name : Vedant\n",
      "Age : 19\n",
      "Height : 178\n"
     ]
    }
   ],
   "source": [
    "#Que11\n",
    "count=0\n",
    "vowels=['a','e','i','o','u']\n",
    "for i in str:\n",
    "    if i in vowels:\n",
    "        count=count+1\n",
    "print(f\"Total vowels in {str} is {count}\")\n",
    "\n",
    "#Que12\n",
    "# n=int(input(\"Enter a number\"))\n",
    "# for i in range(1,11):\n",
    "#    print(f\"{n}*{i}={n*i}\")\n",
    "\n",
    "#Que13\n",
    "reverse=[]\n",
    "for i in range(len(li)-1,-1,-1):\n",
    "    reverse.append(li[i])\n",
    "\n",
    "print(\"Original list :\",li)\n",
    "print(\"Reverse list :\",reverse)\n",
    "\n",
    "#Que14\n",
    "l1=[1,2,4,6]\n",
    "l2=[2,1,7,9]\n",
    "common=[]\n",
    "\n",
    "for i in l1:\n",
    "    if i in l2:\n",
    "        common.append(i)\n",
    "print(\"common elements between list :\",common)\n",
    "\n",
    "#Que15\n",
    "dict={\"Name\":\"Vedant\",\"Age\":19,\"Height\":178}\n",
    "for i,j in dict.items():\n",
    "    print(i,\":\",j)"
   ]
  },
  {
   "cell_type": "code",
   "execution_count": 2,
   "id": "29e29c67-9286-4db7-a254-22afefbd4483",
   "metadata": {},
   "outputs": [
    {
     "name": "stdin",
     "output_type": "stream",
     "text": [
      "Enter First number 55\n",
      "Enter Second number 44\n"
     ]
    },
    {
     "name": "stdout",
     "output_type": "stream",
     "text": [
      "10\n",
      "String is palindrome\n",
      "Original list [1, 2, 1, 2, 1, 4, 5, 6, 7]\n",
      "Unique list [1, 2, 4, 5, 6, 7]\n",
      "Total words in I am practicing python :4\n",
      "Sum of odd numbers from 1 to 50 : 625\n"
     ]
    }
   ],
   "source": [
    "#Que16\n",
    "def HCF(n1,n2):\n",
    "    smallest=0\n",
    "    if n1>n2:\n",
    "        smallest=n2\n",
    "    else:\n",
    "        smallest=n1\n",
    "    for i in range(1,smallest+1):\n",
    "        if n1%i==0 and n2%i==0:\n",
    "            hcf=i\n",
    "    return hcf\n",
    "\n",
    "n1=int(input(\"Enter First number\"))\n",
    "n2=int(input(\"Enter Second number\"))\n",
    "print(HCF(10,20))\n",
    "#Que17\n",
    "str1=\"madam\"\n",
    "flag=False\n",
    "for i in range(len(str1)-1,-1,-1):\n",
    "    for j in range(0,len(str1)):\n",
    "        if str1[i]==str1[j]:\n",
    "            flag=True\n",
    "        else:\n",
    "            flag=False\n",
    "if flag:\n",
    "    print(\"String is palindrome\")\n",
    "else:\n",
    "    print(\"String is not palindrome\")\n",
    "\n",
    "#Que18\n",
    "li=[1,2,1,2,1,4,5,6,7]\n",
    "unique_list=[]\n",
    "for item in li:\n",
    "    if item not in unique_list:\n",
    "        unique_list.append(item)\n",
    "print(f\"Original list {li}\")\n",
    "print(f\"Unique list {unique_list}\")\n",
    "\n",
    "#Que19\n",
    "count=0\n",
    "sentence=\"I am practicing python\"\n",
    "for word in sentence.split():\n",
    "        count=count+1\n",
    "print(f\"Total words in {sentence} :{count}\")\n",
    "\n",
    "#Que20\n",
    "sum=0\n",
    "for i in range(1,51):\n",
    "    if i%2!=0:\n",
    "        sum=sum+i\n",
    "print(\"Sum of odd numbers from 1 to 50 :\",sum)"
   ]
  },
  {
   "cell_type": "code",
   "execution_count": 1,
   "id": "647ec6a7-209c-4708-87c6-5543e18532a4",
   "metadata": {},
   "outputs": [
    {
     "name": "stdin",
     "output_type": "stream",
     "text": [
      "Enter start year 2000\n",
      "Enter end year 2024\n"
     ]
    },
    {
     "name": "stdout",
     "output_type": "stream",
     "text": [
      "2000 is a leap year\n",
      "2004 is a leap year\n",
      "2008 is a leap year\n",
      "2012 is a leap year\n",
      "2016 is a leap year\n",
      "2020 is a leap year\n"
     ]
    },
    {
     "name": "stdin",
     "output_type": "stream",
     "text": [
      "Enter a number:  56\n"
     ]
    },
    {
     "name": "stdout",
     "output_type": "stream",
     "text": [
      "The square root of 56.0 is approximately: 7.483314773547883\n"
     ]
    },
    {
     "name": "stdin",
     "output_type": "stream",
     "text": [
      "Enter first number 12\n",
      "Enter second number 4\n"
     ]
    },
    {
     "name": "stdout",
     "output_type": "stream",
     "text": [
      "LCM of two numbers is  12\n"
     ]
    }
   ],
   "source": [
    "#Que21\n",
    "statrt_year=int(input(\"Enter start year\"))\n",
    "end_year=int(input(\"Enter end year\"))\n",
    "for i in range(statrt_year,end_year):\n",
    "    if (i%4 == 0 and i%100 != 0) or (i% 400 == 0):\n",
    "        print(f\"{i} is a leap year\")\n",
    "#Que22\n",
    "def square_root(number):\n",
    "    guess = number / 2\n",
    "    iterations = 100\n",
    "    for _ in range(iterations):\n",
    "        guess = (guess + number / guess) / 2\n",
    "    return guess\n",
    "\n",
    "\n",
    "num = float(input(\"Enter a number: \"))\n",
    "result = square_root(num)\n",
    "\n",
    "print(f\"The square root of {num} is approximately: {result}\")\n",
    "\n",
    "#Que23\n",
    "def LCM(n1,n2):\n",
    "    if n1>n2:\n",
    "        greater=n1\n",
    "    else:\n",
    "        greater=n2\n",
    "    \n",
    "    while(True):\n",
    "        if greater%n1==0 and greater%n2==0:\n",
    "            lcm=greater\n",
    "            break\n",
    "        else:\n",
    "            greater=greater+1\n",
    "    return lcm\n",
    "n1=int(input(\"Enter first number\"))\n",
    "n2=int(input(\"Enter second number\"))\n",
    "print(\"LCM of two numbers is \",LCM(n1,n2))\n",
    "\n"
   ]
  },
  {
   "cell_type": "code",
   "execution_count": 13,
   "id": "793043ce-c982-4d2e-b781-c2215b168816",
   "metadata": {},
   "outputs": [],
   "source": [
    "#if-else"
   ]
  },
  {
   "cell_type": "code",
   "execution_count": 14,
   "id": "63998473-bf34-4f01-8c68-d04437189df9",
   "metadata": {},
   "outputs": [
    {
     "name": "stdout",
     "output_type": "stream",
     "text": [
      "Positive\n",
      "Zero\n",
      "Even\n",
      "x is greater than y\n",
      "x is even\n",
      "30 is largest\n",
      "10\n"
     ]
    }
   ],
   "source": [
    "#Que1\n",
    "n=24\n",
    "if n>0:\n",
    "    print(\"Positive\")\n",
    "if n<0:\n",
    "    print(\"Negative\")\n",
    "else:\n",
    "    print(\"Zero\")\n",
    "\n",
    "#Que2\n",
    "if n%2==0:\n",
    "    print(\"Even\")\n",
    "else:\n",
    "    print(\"Odd\")\n",
    "\n",
    "#Que3\n",
    "#nested if-else can be use can be used by writing if-else statement inside if statemet\n",
    "# Nested if-else example\n",
    "x = 10\n",
    "y = 5\n",
    "if x > y:\n",
    "    print(\"x is greater than y\")\n",
    "\n",
    "    if x % 2 == 0:\n",
    "        print(\"x is even\")\n",
    "    else:\n",
    "        print(\"x is odd\")\n",
    "else:\n",
    "    print(\"x is not greater than y\")\n",
    "\n",
    "#Que4\n",
    "a,b,c=10,20,30\n",
    "if a>b:\n",
    "    if a>c:\n",
    "        print(f\"{a} is largest\")\n",
    "    else:\n",
    "        print(f\"{c} is largest\")\n",
    "else:\n",
    "    if b>c:\n",
    "        print(f\"{b} is largest\")\n",
    "    else:\n",
    "        print(f\"{c} is largest\")\n",
    "\n",
    "#Que5\n",
    "n1=-10\n",
    "if n1>=0:\n",
    "    print(n1)\n",
    "else:\n",
    "    print(-n1)"
   ]
  },
  {
   "cell_type": "code",
   "execution_count": 16,
   "id": "93169728-512b-4d38-a435-7833af1b4c54",
   "metadata": {},
   "outputs": [
    {
     "name": "stdin",
     "output_type": "stream",
     "text": [
      "Enter a single character v\n"
     ]
    },
    {
     "name": "stdout",
     "output_type": "stream",
     "text": [
      "consonants\n"
     ]
    },
    {
     "name": "stdin",
     "output_type": "stream",
     "text": [
      "Enter age 18\n"
     ]
    },
    {
     "name": "stdout",
     "output_type": "stream",
     "text": [
      "Eligible to vote\n"
     ]
    },
    {
     "name": "stdin",
     "output_type": "stream",
     "text": [
      "Enter the purchase amount: $ 700\n"
     ]
    },
    {
     "name": "stdout",
     "output_type": "stream",
     "text": [
      "Discount: $70.0\n",
      "Discounted amount: $630.0\n",
      "10 is in specified range\n"
     ]
    },
    {
     "name": "stdin",
     "output_type": "stream",
     "text": [
      "Enter the student's score:  79\n"
     ]
    },
    {
     "name": "stdout",
     "output_type": "stream",
     "text": [
      "The student's grade is C\n"
     ]
    }
   ],
   "source": [
    "#Que6\n",
    "char=input(\"Enter a single character\")\n",
    "vowel=['a','e','i','o','u']\n",
    "if char in vowel:\n",
    "      print(\"Vowel\")\n",
    "else:\n",
    "     print(\"consonants\")\n",
    "\n",
    "#Que7\n",
    "age=int(input(\"Enter age\"))\n",
    "if age>=18:\n",
    "    print(\"Eligible to vote\")\n",
    "else:\n",
    "     print(\"Not eligible to vote\")\n",
    "\n",
    "#Que8\n",
    "# Python program to calculate discount amount\n",
    "\n",
    "purchase_amount = float(input(\"Enter the purchase amount: $\"))\n",
    "\n",
    "if purchase_amount > 100:\n",
    "    discount = 0.1 * purchase_amount  # 10% discount for purchase over $100\n",
    "    print(f\"Discount: ${discount}\")\n",
    "\n",
    "    discounted_amount = purchase_amount - discount\n",
    "    print(f\"Discounted amount: ${discounted_amount}\")\n",
    "\n",
    "else:\n",
    "    print(\"No discount applicable for this purchase.\")\n",
    "    print(f\"Total amount: ${purchase_amount:.2f}\")\n",
    "\n",
    "\n",
    "#Que9\n",
    "num=10\n",
    "if num in range(1,11):\n",
    "    print(f\"{num} is in specified range\")\n",
    "else:\n",
    "    print(\"not in specified range\")\n",
    "\n",
    "#Que10\n",
    "score = float(input(\"Enter the student's score: \"))\n",
    "if score >= 90:\n",
    "    grade = \"A\"\n",
    "elif score >= 80:\n",
    "    grade = \"B\"\n",
    "elif score >= 70:\n",
    "    grade = \"C\"\n",
    "elif score >= 60:\n",
    "    grade = \"D\"\n",
    "else:\n",
    "    grade = \"F\"\n",
    "\n",
    "print(f\"The student's grade is {grade}\")"
   ]
  },
  {
   "cell_type": "code",
   "execution_count": 17,
   "id": "965c6e39-f46f-4e17-815b-5e347db578ca",
   "metadata": {},
   "outputs": [
    {
     "name": "stdout",
     "output_type": "stream",
     "text": [
      "Not empty\n"
     ]
    },
    {
     "name": "stdin",
     "output_type": "stream",
     "text": [
      "Enter length of side 1:  4\n",
      "Enter length of side 2:  5\n",
      "Enter length of side 3:  4\n"
     ]
    },
    {
     "name": "stdout",
     "output_type": "stream",
     "text": [
      "It's an isosceles triangle.\n"
     ]
    },
    {
     "name": "stdin",
     "output_type": "stream",
     "text": [
      "Enter a number (1-7) to determine the day of the week:  5\n"
     ]
    },
    {
     "name": "stdout",
     "output_type": "stream",
     "text": [
      "The day corresponding to 5 is Friday\n"
     ]
    },
    {
     "name": "stdin",
     "output_type": "stream",
     "text": [
      "Enter a year 2004\n"
     ]
    },
    {
     "name": "stdout",
     "output_type": "stream",
     "text": [
      "Leap Year\n",
      "The final cost after applying a 20% discount is: 96.0\n"
     ]
    }
   ],
   "source": [
    "#Que11\n",
    "str=\"Hello\"\n",
    "if len(str)==0:\n",
    "    print(\"empty\")\n",
    "else:\n",
    "    print(\"Not empty\")\n",
    "\n",
    "#Que12\n",
    "\n",
    "side1 = float(input(\"Enter length of side 1: \"))\n",
    "side2 = float(input(\"Enter length of side 2: \"))\n",
    "side3 = float(input(\"Enter length of side 3: \"))\n",
    "\n",
    "if side1 == side2 == side3:\n",
    "    print(\"It's an equilateral triangle.\")\n",
    "elif side1 == side2 or side1 == side3 or side2 == side3:\n",
    "    print(\"It's an isosceles triangle.\")\n",
    "else:\n",
    "    print(\"It's a scalene triangle.\")\n",
    "\n",
    "#Que13\n",
    "\n",
    "day_number = int(input(\"Enter a number (1-7) to determine the day of the week: \"))\n",
    "if day_number == 1:\n",
    "    day = \"Monday\"\n",
    "elif day_number == 2:\n",
    "    day = \"Tuesday\"\n",
    "elif day_number == 3:\n",
    "    day = \"Wednesday\"\n",
    "elif day_number == 4:\n",
    "    day = \"Thursday\"\n",
    "elif day_number == 5:\n",
    "    day = \"Friday\"\n",
    "elif day_number == 6:\n",
    "    day = \"Saturday\"\n",
    "elif day_number == 7:\n",
    "    day = \"Sunday\"\n",
    "else:\n",
    "    day = \"Invalid input. Please enter a number between 1 and 7.\"\n",
    "\n",
    "print(f\"The day corresponding to {day_number} is {day}\")\n",
    "\n",
    "#Que14,Que19\n",
    "def leap_year_check(Year):\n",
    "    if (Year % 400 == 0 or Year % 100 != 0 and Year % 4 == 0):\n",
    "\n",
    "         return \"Leap Year\"\n",
    "year=int(input(\"Enter a year\"))\n",
    "print(leap_year_check(year))\n",
    "\n",
    "#Que15\n",
    "def calculate_discount(price, discount):\n",
    "    assert price >= 0, \"Price should be a positive value\"\n",
    "    assert 0 <= discount <= 100, \"Discount should be between 0 and 100\"\n",
    "\n",
    "    if price > 100:\n",
    "        final_price = price - (price * (discount / 100))\n",
    "    else:\n",
    "        final_price = price\n",
    "\n",
    "    return final_price\n",
    "cost = 120\n",
    "offer = 20\n",
    "final_cost = calculate_discount(cost, offer)\n",
    "print(f\"The final cost after applying a {offer}% discount is: {final_cost}\")"
   ]
  },
  {
   "cell_type": "code",
   "execution_count": 18,
   "id": "48dbab5a-fffb-435c-a561-6ed86da409c9",
   "metadata": {},
   "outputs": [
    {
     "name": "stdin",
     "output_type": "stream",
     "text": [
      "Enter the age of person 18\n",
      "Enter Purchase amount 88\n"
     ]
    },
    {
     "name": "stdout",
     "output_type": "stream",
     "text": [
      "lowercase\n"
     ]
    },
    {
     "name": "stdin",
     "output_type": "stream",
     "text": [
      "Enter coefficient a:  2\n",
      "Enter coefficient b:  6\n",
      "Enter coefficient c:  7\n"
     ]
    },
    {
     "name": "stdout",
     "output_type": "stream",
     "text": [
      "Roots are complex: -1.5 + (1.118033988749895+0j)i and -1.5 - (1.118033988749895+0j)i\n"
     ]
    },
    {
     "name": "stdin",
     "output_type": "stream",
     "text": [
      "Enter a number 88\n"
     ]
    },
    {
     "name": "stdout",
     "output_type": "stream",
     "text": [
      "Not a Perfect Square\n"
     ]
    }
   ],
   "source": [
    "#Que16\n",
    "age=int(input(\"Enter the age of person\"))\n",
    "purchase_amount=int(input(\"Enter Purchase amount\"))\n",
    "if age>60:\n",
    "    discount=0.5*purchase_amount\n",
    "    print(f\"Discount : {discount}\")\n",
    "    amount=purchase_amount-discount\n",
    "    print(f\"Amount : {amount}\")\n",
    "\n",
    "#Que17\n",
    "char='a'\n",
    "if char.islower():\n",
    "    print(\"lowercase\")\n",
    "elif char.isupper():\n",
    "    print(\"uppercase\")\n",
    "else:\n",
    "    print(\"Sepcial character\")\n",
    "\n",
    "#Que18\n",
    "import cmath\n",
    "a = float(input(\"Enter coefficient a: \"))\n",
    "b = float(input(\"Enter coefficient b: \"))\n",
    "c = float(input(\"Enter coefficient c: \"))\n",
    "discriminant = b ** 2 - 4 * a * c\n",
    "if discriminant > 0:\n",
    "    root1 = (-b + cmath.sqrt(discriminant)) / (2 * a)\n",
    "    root2 = (-b - cmath.sqrt(discriminant)) / (2 * a)\n",
    "    print(f\"Roots are real and distinct: {root1} and {root2}\")\n",
    "elif discriminant == 0:\n",
    "    root = -b / (2 * a)\n",
    "    print(f\"Root is real and equal: {root}\")\n",
    "else:\n",
    "    real_part = -b / (2 * a)\n",
    "    imaginary_part = cmath.sqrt(abs(discriminant)) / (2 * a)\n",
    "    print(f\"Roots are complex: {real_part} + {imaginary_part}i and {real_part} - {imaginary_part}i\")\n",
    "\n",
    "#Que20\n",
    "flag=0\n",
    "n=int(input(\"Enter a number\"))\n",
    "for i in range(1,n):\n",
    "    square=i*i\n",
    "    if square==n:\n",
    "        flag=1\n",
    "if flag:\n",
    "    print(\"Perfect Square\")\n",
    "else:\n",
    "    print(\"Not a Perfect Square\")\n",
    "\n",
    "#Que21\n",
    "# continue - statement is used to skip a statement for a particular condition\n",
    "#  break - statement is used to break the loop or conditional statement means next iteration will not continue\n",
    "\n"
   ]
  },
  {
   "cell_type": "code",
   "execution_count": 21,
   "id": "734aeddd-8265-42f3-85c8-48a2662be397",
   "metadata": {},
   "outputs": [
    {
     "name": "stdin",
     "output_type": "stream",
     "text": [
      "Enter your weight in kilograms:  76\n",
      "Enter your height in meters:  1.80\n"
     ]
    },
    {
     "name": "stdout",
     "output_type": "stream",
     "text": [
      "Your BMI is 23.456790123456788, which is categorized as normal weight\n",
      "[2, 4, 6, 8, 10]\n"
     ]
    },
    {
     "name": "stdin",
     "output_type": "stream",
     "text": [
      "Enter a number 67\n"
     ]
    },
    {
     "name": "stdout",
     "output_type": "stream",
     "text": [
      "Number is prime\n"
     ]
    }
   ],
   "source": [
    "#Que22\n",
    "def calculate_bmi(weight, height):\n",
    "    bmi = weight / (height ** 2)\n",
    "    return bmi\n",
    "\n",
    "weight = float(input(\"Enter your weight in kilograms: \"))\n",
    "height = float(input(\"Enter your height in meters: \"))\n",
    "\n",
    "bmi = calculate_bmi(weight, height)\n",
    "\n",
    "if bmi < 18.5:\n",
    "    category = \"underweight\"\n",
    "elif 18.5 <= bmi < 25:\n",
    "    category = \"normal weight\"\n",
    "elif 25 <= bmi < 30:\n",
    "    category = \"overweight\"\n",
    "else:\n",
    "    category = \"obese\"\n",
    "\n",
    "print(f\"Your BMI is {bmi}, which is categorized as {category}\")\n",
    "\n",
    "#Que23:\n",
    "num=[1,2,3,4,5,6,7,8,9,10]\n",
    "def even_filter(num):\n",
    "    if num%2==0:\n",
    "        return True\n",
    "    else:\n",
    "        return False\n",
    "even_no=list(filter(even_filter,num))\n",
    "print(even_no)\n",
    "      \n",
    "#Que24\n",
    "n=int(input(\"Enter a number\"))\n",
    "flag=0\n",
    "end=n//2\n",
    "for i in range(2,end):\n",
    "    if n%i!=0:\n",
    "       flag=1\n",
    "    else:\n",
    "        flag=0\n",
    "if flag:\n",
    "    print(\"Number is prime\")\n",
    "else:\n",
    "    print(\"Number is not prime\")"
   ]
  },
  {
   "cell_type": "code",
   "execution_count": 3,
   "id": "dfc01ac8-ee94-433e-bf66-b78735cfef8b",
   "metadata": {},
   "outputs": [
    {
     "name": "stdout",
     "output_type": "stream",
     "text": [
      "Hello\n"
     ]
    },
    {
     "name": "stdin",
     "output_type": "stream",
     "text": [
      "Enter First number 3\n",
      "Enter Second number 4\n"
     ]
    },
    {
     "name": "stdout",
     "output_type": "stream",
     "text": [
      "7\n"
     ]
    },
    {
     "name": "stdin",
     "output_type": "stream",
     "text": [
      "Enter First number 5\n",
      "Enter Second number 6\n"
     ]
    },
    {
     "name": "stdout",
     "output_type": "stream",
     "text": [
      "30\n"
     ]
    }
   ],
   "source": [
    "#Basic of functions\n",
    "'''\n",
    "Basics of Functions:\n",
    "Que1\n",
    "Python Functions is a block of statements that return the specific task.\n",
    "The idea is to put some commonly or repeatedly done\n",
    " tasks together and make a function so that instead of writing the same\n",
    "code again and again for different inputs,\n",
    "we can do the function calls to reuse code contained in it over and over again.\n",
    "\n",
    "Que2\n",
    "In Python, you can define a function using the def keyword followed by the function name, parentheses (),\n",
    " and a colon :. If the function takes parameters, you list them within the parentheses.\n",
    "The function body, containing the code to be executed when the function is called, is indented below.\n",
    "'''\n",
    "\n",
    "def Hello():\n",
    "    print(\"Hello\")\n",
    "Hello()\n",
    "\n",
    "'''\n",
    "Que3\n",
    "Function defination - A function definition is the code that implements a logic and returns a result. \n",
    "A function call is the line of code that calls the function and passes any required parameters.\n",
    "\n",
    "Function call - A function call actually triggers the execution of the code within the function's body.\n",
    "It passes specific values (if required) to the function's parameters and performs the defined actions.\n",
    "'''\n",
    "#Que4\n",
    "def sum(a,b):\n",
    "    return a+b\n",
    "a=int(input(\"Enter First number\"))\n",
    "b=int(input(\"Enter Second number\"))\n",
    "print(sum(a,b))\n",
    "\n",
    "'''\n",
    "Que5\n",
    "A function signature is a declaration of a function that specifies the name of the function, \n",
    "the types and names of the arguments that the function takes, and the type of the value that the function returns.\n",
    "In Python, the function signature is typically defined using the def keyword, followed by the name of the function, \n",
    "a list of arguments in parentheses, and a colon. The function body is then indented below the colon.\n",
    "'''\n",
    "#Que6\n",
    "def product(a,b):\n",
    "    return a*b\n",
    "a=int(input(\"Enter First number\"))\n",
    "b=int(input(\"Enter Second number\"))\n",
    "print(product(a,b)) # positional arguments\n"
   ]
  },
  {
   "cell_type": "code",
   "execution_count": 1,
   "id": "a63501c8-04bf-4f89-8573-7fac953c87a7",
   "metadata": {},
   "outputs": [
    {
     "name": "stdout",
     "output_type": "stream",
     "text": [
      "Hello Vedant Unawane\n",
      "Hi my name is Vedant i am 19 years old\n",
      "Hi my name is 19 i am Vedant years old\n"
     ]
    },
    {
     "data": {
      "text/plain": [
       "'\\nQue5\\n*args allows a function to accept a variable number of positional arguments.\\nit stores value in form of tuples inside function defination\\n**kwargs allows a function to accept a variable number of keyword arguments (key-value pairs).\\n'"
      ]
     },
     "execution_count": 1,
     "metadata": {},
     "output_type": "execute_result"
    }
   ],
   "source": [
    "# Function Parameters and Arguments:\n",
    "'''\n",
    "Que1\n",
    "Formal parameters are the variables that are declared in the function definition.\n",
    " When the function is called, the values that are passed to the function are called actual arguments. \n",
    " The number of formal parameters and actual arguments must be the same, \n",
    " and the types of the actual arguments must be compatible with the types of the formal parameters.\n",
    "'''\n",
    "#Que2\n",
    "def greet(fname=\"Vedant\",lname=\"Unawane\"):\n",
    "    print(f\"Hello {fname} {lname}\")\n",
    "greet()\n",
    "\n",
    "#Que3\n",
    "'''\n",
    "Keyword-only arguments mean whenever we pass the arguments(or value)\n",
    "by their parameter names at the time of calling thefunction in Python \n",
    "in which if you change the position of arguments then there will be no change in the output.\n",
    "On using keyword arguments you will get the correct output because the order of argument doesn’t matter\n",
    "provided the logic of your code is correct.But in the case of positional arguments, you will get more than \n",
    "one output on changing the order of the arguments.\n",
    "'''\n",
    "def data(name,age):\n",
    "    print(f\"Hi my name is {name} i am {age} years old\")\n",
    "\n",
    "data(name=\"Vedant\",age=19) #keyword argument\n",
    "data(19,\"Vedant\") #positional argument\n",
    "\n",
    "'''\n",
    "#Que4\n",
    "def calculate_sum(*args):\n",
    " \n",
    "    if not args:\n",
    "        return 0  # Return 0 if no arguments are passed\n",
    "    else:\n",
    "        return sum(args)  # Calculate the sum of the arguments\n",
    "\n",
    "# Example usage\n",
    "result = calculate_sum(1, 2, 3, 4, 5)\n",
    "print(\"Sum of the numbers:\", result)\n",
    "\n",
    "'''\n",
    "\n",
    "'''\n",
    "Que5\n",
    "*args allows a function to accept a variable number of positional arguments.\n",
    "it stores value in form of tuples inside function defination\n",
    "**kwargs allows a function to accept a variable number of keyword arguments (key-value pairs).\n",
    "'''"
   ]
  },
  {
   "cell_type": "code",
   "execution_count": 15,
   "id": "e72a8d2c-2263-48ab-89de-ad5a8f3732e9",
   "metadata": {},
   "outputs": [
    {
     "name": "stdout",
     "output_type": "stream",
     "text": [
      "Outside the function I am global variable\n",
      "Inside the function I am global variable\n"
     ]
    },
    {
     "name": "stdin",
     "output_type": "stream",
     "text": [
      "Enter a number 5\n"
     ]
    },
    {
     "name": "stdout",
     "output_type": "stream",
     "text": [
      "Factorial of number is :  120\n",
      "20\n",
      "20\n"
     ]
    }
   ],
   "source": [
    "#Return values and scoping\n",
    "'''\n",
    "Que1\n",
    "he return statement in Python functions is used to terminate \n",
    "the execution of the function and return a value to the caller. \n",
    "The statements after the return statement are not executed. \n",
    "If the return statement is without any expression, then the special value None is returned.\n",
    "\n",
    "Que2\n",
    "scope - 1 local scope and  2 global scope\n",
    "local scope - the variable which is defined inside the function or accessible inside the function.\n",
    "We cannot access it outside the function\n",
    "\n",
    "global scope - the variable which is declared outside the function and accessible in both inside \n",
    "function defination and outside of function\n",
    "'''\n",
    "#Que3\n",
    "s=\"I am global variable\"\n",
    "def f():\n",
    "    print(\"Inside the function\",s)\n",
    "\n",
    "print(\"Outside the function\",s)\n",
    "f()\n",
    "\n",
    "\n",
    "#Que4\n",
    "def Factorial(n):\n",
    "    fact=1\n",
    "    for i in range(1,n+1):\n",
    "        fact=fact*i\n",
    "    return fact\n",
    "n=int(input(\"Enter a number\"))\n",
    "print(\"Factorial of number is : \",Factorial(n))\n",
    "\n",
    "'''\n",
    "Que5\n",
    "In Python, variables defined outside a function can be accessed from within the function by\n",
    "referencing them directly\n",
    "'''\n",
    "x=10\n",
    "def fun():\n",
    "    global x #we can change globl variable value inside the function by using global keyword\n",
    "    x=20\n",
    "    print(x)\n",
    "\n",
    "fun()\n",
    "print(x)\n"
   ]
  },
  {
   "cell_type": "code",
   "execution_count": 16,
   "id": "f933fcb2-b08d-4c15-9ee3-2b7b59c56ad7",
   "metadata": {},
   "outputs": [
    {
     "name": "stdout",
     "output_type": "stream",
     "text": [
      "Sorted list based on the second element of each tuple:\n",
      "[(3, 2), (6, 4), (1, 5), (9, 8)]\n",
      "Original list : [1, 2, 3, 4, 5]\n",
      "New list : [1, 4, 9, 16, 25]\n",
      "Original list: [1, 2, 3, 4, 5]\n",
      "After applying the function to each element: [1, 4, 9, 16, 25]\n"
     ]
    }
   ],
   "source": [
    "#Lambda and Higher order functions\n",
    "'''\n",
    "Que1\n",
    "In Python, lambda functions are small, anonymous functions that can be defined without a name. \n",
    "They are typically used when you need to pass a function as an argument to another function, or \n",
    "when you need a simple function for a short period of time.\n",
    "'''\n",
    "\n",
    "#Que2\n",
    "list_of_tuples = [(1, 5), (3, 2), (9, 8), (6, 4)]\n",
    "sorted_list = sorted(list_of_tuples, key=lambda x: x[1])\n",
    "print(\"Sorted list based on the second element of each tuple:\")\n",
    "print(sorted_list)\n",
    "\n",
    "'''\n",
    "Que3\n",
    "A function in Python is considered a higher-order function if it can take one or more functions as arguments,\n",
    "return a function as its result, or both. Higher-order functions enable powerful functional programming \n",
    "techniques and provide more abstraction and modularity in Python code.\n",
    "'''\n",
    "def demo(func,iterable):\n",
    "    result=[]\n",
    "    for item in iterable:\n",
    "        result.append((func(item)))\n",
    "    return result\n",
    "\n",
    "def square(x):\n",
    "    return x*x\n",
    "\n",
    "num=[1,2,3,4,5]\n",
    "print(\"Original list :\",num)\n",
    "res=demo(square,num)\n",
    "print(\"New list :\",res)\n",
    "\n",
    "\n",
    "#QUe4\n",
    "def apply_function_to_list(numbers, func):\n",
    "\n",
    "    return [func(num) for num in numbers]\n",
    "\n",
    "def square(x):\n",
    "    return x * x\n",
    "\n",
    "numbers_list = [1, 2, 3, 4, 5]\n",
    "result = apply_function_to_list(numbers_list, square)\n",
    "\n",
    "print(\"Original list:\", numbers_list)\n",
    "print(\"After applying the function to each element:\", result)"
   ]
  },
  {
   "cell_type": "code",
   "execution_count": 2,
   "id": "2b598d60-fd10-495c-b49b-6699240d5580",
   "metadata": {},
   "outputs": [
    {
     "data": {
      "text/plain": [
       "'\\nQue1\\n\\nDocstrings in Python are used to describe the purpose, usage, and behavior of functions, classes, modules, \\nor methods within your code. They serve as documentation strings and are enclosed in triple quotes () \\nright after the function, class, or module definition.\\n\\nQue2\\nFunctions:\\n\\nUse Descriptive Names: Choose names that clearly describe the purpose or action of the function. \\nThis makes your code more understandable.\\n\\nGood: calculate_area_of_rectangle\\nAvoid: calc\\nFollow Lowercase With Underscores (snake_case): Use lowercase letters and underscores to separate words in\\nfunction names.\\n\\nGood: calculate_area_of_rectangle\\nAvoid: calculateAreaOfRectangle\\nUse Verbs for Function Names: Use verbs to indicate actions or operations performed by the function.\\n\\nGood: calculate, get, find\\nAvoid: data, process\\n\\nVariables:\\nUse Descriptive and Clear Names: Variable names should indicate the data they hold or represent.\\n\\nGood: total_sales, user_name\\nAvoid: temp, xyz\\nFollow Lowercase With Underscores (snake_case): Similar to function names, use lowercase letters and\\nunderscores to separate words.\\n\\nGood: total_sales, user_name\\nAvoid: TotalSales, UserName\\nUse Singular for Single Values, Plural for Collections: For variables holding a single value, \\nuse singular names. For collections or lists, use plural names.\\n\\nGood: customer, employees, products\\nAvoid: customers, product_list\\nBe Consistent: Maintain consistency in naming across your codebase to improve readability and reduce confusion.\\n'"
      ]
     },
     "execution_count": 2,
     "metadata": {},
     "output_type": "execute_result"
    }
   ],
   "source": [
    "#Function documentation and best practices\n",
    "'''\n",
    "Que1\n",
    "\n",
    "Docstrings in Python are used to describe the purpose, usage, and behavior of functions, classes, modules, \n",
    "or methods within your code. They serve as documentation strings and are enclosed in triple quotes (''' ''') \n",
    "right after the function, class, or module definition.\n",
    "\n",
    "Que2\n",
    "Functions:\n",
    "\n",
    "Use Descriptive Names: Choose names that clearly describe the purpose or action of the function. \n",
    "This makes your code more understandable.\n",
    "\n",
    "Good: calculate_area_of_rectangle\n",
    "Avoid: calc\n",
    "Follow Lowercase With Underscores (snake_case): Use lowercase letters and underscores to separate words in\n",
    "function names.\n",
    "\n",
    "Good: calculate_area_of_rectangle\n",
    "Avoid: calculateAreaOfRectangle\n",
    "Use Verbs for Function Names: Use verbs to indicate actions or operations performed by the function.\n",
    "\n",
    "Good: calculate, get, find\n",
    "Avoid: data, process\n",
    "\n",
    "Variables:\n",
    "Use Descriptive and Clear Names: Variable names should indicate the data they hold or represent.\n",
    "\n",
    "Good: total_sales, user_name\n",
    "Avoid: temp, xyz\n",
    "Follow Lowercase With Underscores (snake_case): Similar to function names, use lowercase letters and\n",
    "underscores to separate words.\n",
    "\n",
    "Good: total_sales, user_name\n",
    "Avoid: TotalSales, UserName\n",
    "Use Singular for Single Values, Plural for Collections: For variables holding a single value, \n",
    "use singular names. For collections or lists, use plural names.\n",
    "\n",
    "Good: customer, employees, products\n",
    "Avoid: customers, product_list\n",
    "Be Consistent: Maintain consistency in naming across your codebase to improve readability and reduce confusion.\n",
    "'''"
   ]
  },
  {
   "cell_type": "code",
   "execution_count": 13,
   "id": "2463348d-1425-4b87-8dee-d1dc8af2b903",
   "metadata": {},
   "outputs": [
    {
     "name": "stdout",
     "output_type": "stream",
     "text": [
      "[3, 4, 5, 6, 7]\n",
      "[1, 4, 9, 16, 25]\n",
      "['APPLE', 'BANANA', 'MANGO', 'PINEAPPLE', 'KV']\n",
      "[5, 6, 5, 9, 2]\n",
      "Result after adding elements: [6, 8, 10, 12]\n"
     ]
    },
    {
     "data": {
      "text/plain": [
       "[3, 3, 1, 0, 10]"
      ]
     },
     "execution_count": 13,
     "metadata": {},
     "output_type": "execute_result"
    }
   ],
   "source": [
    "#Map\n",
    "#Que1\n",
    "'''\n",
    "The map() function in Python is used to apply a specified function to each item in an iterable \n",
    "(like a list, tuple, etc.) and returns an iterator that yields the results. It takes two arguments: \n",
    "the function to be applied and the iterable.\n",
    "'''\n",
    "li=[1,2,3,4,5]\n",
    "print(list(map(lambda a:a+2,li)))\n",
    "\n",
    "#Que2\n",
    "print(list(map(lambda a:a*a,li)))\n",
    "\n",
    "#Que3\n",
    "'''\n",
    "map() Function:\n",
    "\n",
    "map() applies a specified function to each item in an iterable and returns an iterator that\n",
    "yields the results lazily (in Python 3, it returns an iterator; in Python 2, it returns a list).\n",
    "It's useful when you want to transform elements using an existing function and have a simple operation \n",
    "to apply to each element.The syntax involves the map() function and the function to be applied.\n",
    "\n",
    "List Comprehension:\n",
    "\n",
    "List comprehensions create new lists by applying an expression to each element in an iterable, potentially\n",
    "with filtering based on conditions.They offer more flexibility as they can include conditions and complex \n",
    "expressions inside square brackets, allowing for more complex transformations and filtering.\n",
    "List comprehensions can be more readable and expressive for simpler transformations or when filtering \n",
    "elements based on certain conditions.\n",
    "'''\n",
    "#Que4\n",
    "fruits=[\"apple\",\"banana\",\"mango\",\"pineapple\",\"kv\"]\n",
    "print(list(map(lambda a:a.upper(),fruits)))\n",
    "\n",
    "#Que5\n",
    "print(list(map(lambda a:len(a),fruits)))\n",
    "\n",
    "#Que6 \n",
    "\n",
    "def add_elements(a, b):\n",
    "    return a + b\n",
    "\n",
    "list_a = [1, 2, 3, 4]\n",
    "list_b = [5, 6, 7, 8]\n",
    "result = map(add_elements, list_a, list_b)\n",
    "result_list = list(result)\n",
    "\n",
    "print(\"Result after adding elements:\", result_list)\n",
    "\n",
    "#Que7\n",
    "celsius_temperatures = [0, 10, 20, 30, 40]\n",
    "list(map(lambda x:(x * 9/5) + 32,celsius_temperatures))\n",
    "\n",
    "#Que8\n",
    "float_numbers = [3.14, 2.718, 1.414, 0.5, 9.99]\n",
    "list(map(lambda x: round(x), float_numbers))\n",
    "\n"
   ]
  },
  {
   "cell_type": "code",
   "execution_count": 33,
   "id": "64108479-6f24-4277-a1bc-53b5098a5d61",
   "metadata": {},
   "outputs": [
    {
     "data": {
      "text/plain": [
       "120"
      ]
     },
     "execution_count": 33,
     "metadata": {},
     "output_type": "execute_result"
    }
   ],
   "source": [
    "#Reduce\n",
    "#Que1\n",
    "'''\n",
    "\n",
    "The reduce() function in Python is used to apply a function cumulatively to the items of an iterable, \n",
    "reducing them to a single value. It is part of the functools module in Python. \n",
    "The functools module needs to be imported explicitly to use the reduce() function.\n",
    "'''\n",
    "#Que2\n",
    "from functools import reduce\n",
    "from math import gcd\n",
    "li=[1,2,3,4,5]\n",
    "reduce(lambda x,y:x*y,li)\n"
   ]
  },
  {
   "cell_type": "code",
   "execution_count": 28,
   "id": "efea01d4-74e4-4a79-8769-830f9cafed9e",
   "metadata": {},
   "outputs": [
    {
     "data": {
      "text/plain": [
       "5"
      ]
     },
     "execution_count": 28,
     "metadata": {},
     "output_type": "execute_result"
    }
   ],
   "source": [
    "#Que3\n",
    "reduce(lambda a,b:a if a>b else b,li)"
   ]
  },
  {
   "cell_type": "code",
   "execution_count": 38,
   "id": "4e43a007-0efa-4c03-b6b0-1a72bee2e21c",
   "metadata": {},
   "outputs": [
    {
     "data": {
      "text/plain": [
       "'hellohihowareyou'"
      ]
     },
     "execution_count": 38,
     "metadata": {},
     "output_type": "execute_result"
    }
   ],
   "source": [
    "#Que4\n",
    "li_str=['hello','hi','how','are','you']\n",
    "reduce(lambda x,y:\"\".join(x+y),li_str)"
   ]
  },
  {
   "cell_type": "code",
   "execution_count": 30,
   "id": "e5b2f35d-10ab-4291-b2aa-66f421c51fbc",
   "metadata": {},
   "outputs": [
    {
     "data": {
      "text/plain": [
       "120"
      ]
     },
     "execution_count": 30,
     "metadata": {},
     "output_type": "execute_result"
    }
   ],
   "source": [
    "#Que5\n",
    "n=5\n",
    "reduce(lambda x, y: x * y, range(1, n+1)) if n > 0 else 1"
   ]
  },
  {
   "cell_type": "code",
   "execution_count": 35,
   "id": "a2a801f8-9590-40a8-9dca-1998f85d2300",
   "metadata": {},
   "outputs": [
    {
     "name": "stdout",
     "output_type": "stream",
     "text": [
      "GCD of the numbers: 12\n"
     ]
    }
   ],
   "source": [
    "#Que6\n",
    "\n",
    "numbers = [36, 48, 60, 72]\n",
    "\n",
    "def find_gcd(x, y):\n",
    "    return gcd(x, y)\n",
    "\n",
    "result_gcd = reduce(find_gcd, numbers)\n",
    "\n",
    "print(\"GCD of the numbers:\", result_gcd)\n"
   ]
  },
  {
   "cell_type": "code",
   "execution_count": 32,
   "id": "33089e42-72bb-497c-86eb-3f5ca77cfaab",
   "metadata": {},
   "outputs": [
    {
     "data": {
      "text/plain": [
       "6"
      ]
     },
     "execution_count": 32,
     "metadata": {},
     "output_type": "execute_result"
    }
   ],
   "source": [
    "#Que7\n",
    "no=\"123\"\n",
    "reduce(lambda x,y:int(x)+int(y),no,0)"
   ]
  },
  {
   "cell_type": "code",
   "execution_count": 43,
   "id": "1d166f1e-b73c-4c96-a6d3-917fa5ceb250",
   "metadata": {},
   "outputs": [
    {
     "data": {
      "text/plain": [
       "[1, 3, 5, 7, 9]"
      ]
     },
     "execution_count": 43,
     "metadata": {},
     "output_type": "execute_result"
    }
   ],
   "source": [
    "#Filter\n",
    "#Que1\n",
    "'''\n",
    "The filter() function in Python is used to create an iterator from elements of an iterable\n",
    "(like a list, tuple, etc.) that satisfy a certain condition. It takes two arguments: a function\n",
    "that defines the filtering condition and an iterable.\n",
    "'''\n",
    "#Que2\n",
    "li=[1,2,3,4,5,6,7,8,9,10]\n",
    "list(filter(lambda a:a%2==0,li))\n",
    "\n"
   ]
  },
  {
   "cell_type": "code",
   "execution_count": 44,
   "id": "bbb07c58-1778-41fc-9400-2e5f0f3cdde6",
   "metadata": {},
   "outputs": [
    {
     "data": {
      "text/plain": [
       "['pw', 'pwskill']"
      ]
     },
     "execution_count": 44,
     "metadata": {},
     "output_type": "execute_result"
    }
   ],
   "source": [
    "#Que3\n",
    "li_str=['pw','pwskill','vedant','hello']\n",
    "list(filter(lambda a:a[0]=='p',li_str))\n"
   ]
  },
  {
   "cell_type": "code",
   "execution_count": 50,
   "id": "72aa0fda-d5ec-47a7-af3e-07356c76807b",
   "metadata": {},
   "outputs": [
    {
     "name": "stdout",
     "output_type": "stream",
     "text": [
      "Prime numbers from the list using lambda: [2, 3, 5, 7, 11, 13]\n"
     ]
    }
   ],
   "source": [
    "#Que4\n",
    "\n",
    "numbers = [2, 3, 4, 5, 6, 7, 8, 9, 10, 11, 12, 13, 14, 15]\n",
    "prime_numbers = filter(lambda x: all(x % i != 0 for i in range(2, int(x**0.5) + 1)) and x > 1, numbers)\n",
    "result_list = list(prime_numbers)\n",
    "print(\"Prime numbers from the list using lambda:\", result_list)\n"
   ]
  },
  {
   "cell_type": "code",
   "execution_count": 46,
   "id": "46b5a950-464d-4460-ac0f-99368b0733ec",
   "metadata": {},
   "outputs": [
    {
     "data": {
      "text/plain": [
       "[1, 3, 5, 7, 9]"
      ]
     },
     "execution_count": 46,
     "metadata": {},
     "output_type": "execute_result"
    }
   ],
   "source": [
    "#Que5\n",
    "values = [1, None, 3, None, 5, None, 7, None, 9]\n",
    "list(filter(lambda a:a!=None,values))"
   ]
  },
  {
   "cell_type": "code",
   "execution_count": 47,
   "id": "bef8c867-761e-4c18-a695-91cdaa9b1506",
   "metadata": {},
   "outputs": [
    {
     "name": "stdout",
     "output_type": "stream",
     "text": [
      "['pw', 'sudh']\n"
     ]
    }
   ],
   "source": [
    "#Que6\n",
    "l=[\"pw\",\"pwskills\",\"sudh\",\"krish\"]\n",
    "print(list(filter(lambda a:len(a)<=4,l)))"
   ]
  },
  {
   "cell_type": "code",
   "execution_count": 48,
   "id": "65c373fa-96ca-42d1-a2ea-d63ccbaf17f8",
   "metadata": {},
   "outputs": [
    {
     "data": {
      "text/plain": [
       "[25, 30, 40]"
      ]
     },
     "execution_count": 48,
     "metadata": {},
     "output_type": "execute_result"
    }
   ],
   "source": [
    "#Que7\n",
    "values = [10, 25, 5, 30, 15, 8, 40, 20]\n",
    "threshold = 20\n",
    "list(filter(lambda x:x>threshold,values))"
   ]
  },
  {
   "cell_type": "code",
   "execution_count": 58,
   "id": "362f4f59-d3dc-4ff2-a61d-2dd4f5caa390",
   "metadata": {},
   "outputs": [
    {
     "name": "stdout",
     "output_type": "stream",
     "text": [
      "1 5 5\n",
      "[2, 4, 6, 8, 10]\n"
     ]
    }
   ],
   "source": [
    "# Built-in Functions:\n",
    "#Que1\n",
    "'''\n",
    "len():\n",
    "\n",
    "The len() function is used to determine the length or the number of items in an iterable, \n",
    "such as a string, list, tuple, dictionary, etc.It returns the count of elements present in \n",
    "the given iterable.\n",
    "\n",
    "max():\n",
    "\n",
    "The max() function is used to find the maximum value from a sequence (list, tuple, or other iterable) or\n",
    "among multiple values passed as arguments.It returns the largest item in the sequence.\n",
    "\n",
    "min():\n",
    "\n",
    "The min() function is used to find the minimum value from a sequence (list, tuple, or other iterable) \n",
    "or among multiple values passed as arguments.It returns the smallest item in the sequence.\n",
    "'''\n",
    "li=[1,2,3,4,5]\n",
    "print(min(li),max(li),len(li))\n",
    "\n",
    "#Que2\n",
    "def double(n):\n",
    "    return n * 2\n",
    "numbers = [1, 2, 3, 4, 5]\n",
    "doubled_numbers = map(double, numbers)\n",
    "result = list(doubled_numbers)\n",
    "print(result)  \n",
    "\n",
    "#Que3\n",
    "'''\n",
    "The filter() function in Python is used to create an iterator that filters elements from an iterable \n",
    "(such as a list, tuple, etc.) based on a specified function or condition. It takes two arguments:\n",
    "a function or None (to filter based on a boolean value), and an iterable.\n",
    "'''\n",
    "def is_even(n):\n",
    "    return n % 2 == 0\n",
    "\n",
    "numbers = [1, 2, 3, 4, 5, 6, 7, 8, 9, 10]\n",
    "filtered_numbers = filter(is_even, numbers)\n",
    "\n",
    "from functools import reduce\n",
    "reduce(lambda x,y:x*y,li)"
   ]
  },
  {
   "cell_type": "code",
   "execution_count": 3,
   "id": "c2ca727f-820d-46c2-962a-270ecb945468",
   "metadata": {},
   "outputs": [
    {
     "data": {
      "text/plain": [
       "120"
      ]
     },
     "execution_count": 3,
     "metadata": {},
     "output_type": "execute_result"
    }
   ],
   "source": [
    "#Recursion\n",
    "#Que1\n",
    "'''\n",
    "Recursion is a programming technique where a function calls itself to solve a problem. \n",
    "In Python, this means a function can call itself during its execution.On the other hand,\n",
    "iteration involves using loops (like for or while loops) to repeat a set of instructions\n",
    "until a specific condition is met. \n",
    "'''\n",
    "#Que2\n",
    "def factorial(n):\n",
    "    if n==1:\n",
    "        return 1\n",
    "    else:\n",
    "        return n*factorial(n-1)\n",
    "factorial(5) \n",
    "\n"
   ]
  },
  {
   "cell_type": "code",
   "execution_count": 2,
   "id": "a3a3a137-0c5c-4090-b82d-d30b1455e471",
   "metadata": {},
   "outputs": [
    {
     "data": {
      "text/plain": [
       "55"
      ]
     },
     "execution_count": 2,
     "metadata": {},
     "output_type": "execute_result"
    }
   ],
   "source": [
    "#Que3\n",
    "def fib(n):\n",
    "    if n<=1:\n",
    "        return n\n",
    "    else:\n",
    "        return fib(n-1)+fib(n-2)\n",
    "fib(10)\n"
   ]
  },
  {
   "cell_type": "code",
   "execution_count": 5,
   "id": "e18e2fa0-ca7f-41d9-bbc9-3193c1053e6d",
   "metadata": {},
   "outputs": [
    {
     "data": {
      "text/plain": [
       "15"
      ]
     },
     "execution_count": 5,
     "metadata": {},
     "output_type": "execute_result"
    }
   ],
   "source": [
    "#Que4\n",
    "def sum_elements(n):\n",
    "    if len(n)==1:\n",
    "        return n[0]\n",
    "    else:\n",
    "        return n[0]+sum_elements(n[1:])\n",
    "sum_elements([1,2,3,4,5])\n",
    "\n",
    "#Que5\n",
    "'''\n",
    "Base Case: Always include a base case in your recursive function. This is the condition that stops the \n",
    "recursion. Ensure that the recursive function reaches this base case eventually, allowing the recursion \n",
    "to terminate.\n",
    "'''"
   ]
  },
  {
   "cell_type": "code",
   "execution_count": 32,
   "id": "f41574a9-1db2-4fd3-a7c4-2ccfa8605785",
   "metadata": {},
   "outputs": [
    {
     "name": "stdout",
     "output_type": "stream",
     "text": [
      "The GCD of 48 and 18 is: 6\n"
     ]
    }
   ],
   "source": [
    "#Que6\n",
    "def gcd(a, b):\n",
    "    if b == 0:\n",
    "        return a\n",
    "    else:\n",
    "        return gcd(b, a % b)\n",
    "\n",
    "# Example usage:\n",
    "num1 = 48\n",
    "num2 = 18\n",
    "result = gcd(num1, num2)\n",
    "print(f\"The GCD of {num1} and {num2} is:\", result)\n"
   ]
  },
  {
   "cell_type": "code",
   "execution_count": 17,
   "id": "5b7c2b0e-cb9c-43e1-8f10-6401750a137a",
   "metadata": {},
   "outputs": [
    {
     "data": {
      "text/plain": [
       "'olleH'"
      ]
     },
     "execution_count": 17,
     "metadata": {},
     "output_type": "execute_result"
    }
   ],
   "source": [
    "#Que7\n",
    "def reverse_string(s):\n",
    "    if len(s) <= 1:\n",
    "        return s\n",
    "    else:\n",
    "        return reverse_string(s[1:]) + s[0]\n",
    "reverse_string(\"Hello\")"
   ]
  },
  {
   "cell_type": "code",
   "execution_count": 19,
   "id": "9b9dba36-a298-470e-b3b9-a7962766c5ff",
   "metadata": {},
   "outputs": [
    {
     "data": {
      "text/plain": [
       "25"
      ]
     },
     "execution_count": 19,
     "metadata": {},
     "output_type": "execute_result"
    }
   ],
   "source": [
    "#Que8\n",
    "def power_no(n,k):\n",
    "    if k==0:\n",
    "        return 1\n",
    "    else:\n",
    "        return n*power_no(n,k-1)\n",
    "power_no(5,2)"
   ]
  },
  {
   "cell_type": "code",
   "execution_count": 22,
   "id": "f3eff742-9c9e-4d5d-92a3-f9f43f5f2b0b",
   "metadata": {},
   "outputs": [
    {
     "name": "stdout",
     "output_type": "stream",
     "text": [
      "Permutations of abc : ['abc', 'acb', 'bac', 'bca', 'cab', 'cba']\n"
     ]
    }
   ],
   "source": [
    "#Que9\n",
    "def find_permutations(s):\n",
    "    if len(s) <= 1:\n",
    "        return [s]\n",
    "\n",
    "    all_permutations = []\n",
    "    for i in range(len(s)):\n",
    "        first_char = s[i]\n",
    "        remaining_chars = s[:i] + s[i + 1:]\n",
    "\n",
    "        permutations_of_remaining = find_permutations(remaining_chars)\n",
    "\n",
    "        for permutation in permutations_of_remaining:\n",
    "            all_permutations.append(first_char + permutation)\n",
    "\n",
    "    return all_permutations\n",
    "\n",
    "# Example usage:\n",
    "input_string = \"abc\"\n",
    "permutations = find_permutations(input_string)\n",
    "print(\"Permutations of\", input_string, \":\", permutations)\n"
   ]
  },
  {
   "cell_type": "code",
   "execution_count": 30,
   "id": "b55ce6ba-1204-4317-9b5e-1411fe84ab7e",
   "metadata": {},
   "outputs": [
    {
     "data": {
      "text/plain": [
       "True"
      ]
     },
     "execution_count": 30,
     "metadata": {},
     "output_type": "execute_result"
    }
   ],
   "source": [
    "#Que10\n",
    "def check_palindrome(str):\n",
    "    str=str.lower()\n",
    "    if len(str)==1:\n",
    "        return True\n",
    "    elif str[0]==str[-1]:\n",
    "        return check_palindrome(str[1:-1])\n",
    "    else:\n",
    "        return False\n",
    "check_palindrome(\"Madam\")"
   ]
  },
  {
   "cell_type": "code",
   "execution_count": 31,
   "id": "78614bd3-1271-4163-b89e-643ca6195f13",
   "metadata": {},
   "outputs": [
    {
     "name": "stdout",
     "output_type": "stream",
     "text": [
      "Combinations: [[], [1], [2], [1, 2], [3], [1, 3], [2, 3], [1, 2, 3]]\n"
     ]
    }
   ],
   "source": [
    "#Que11\n",
    "def generate_combinations(elements):\n",
    "    if len(elements) == 0:\n",
    "        return [[]]  # Return a list containing an empty combination\n",
    "    \n",
    "    first_element = elements[0]\n",
    "    remaining_elements = elements[1:]\n",
    "    \n",
    "    combinations_without_first = generate_combinations(remaining_elements)\n",
    "    combinations_with_first = []\n",
    "    \n",
    "    for combination in combinations_without_first:\n",
    "        combinations_with_first.append(combination)\n",
    "        combinations_with_first.append([first_element] + combination)\n",
    "    \n",
    "    return combinations_with_first\n",
    "\n",
    "# Example usage:\n",
    "input_list = [1, 2, 3]\n",
    "combinations = generate_combinations(input_list)\n",
    "print(\"Combinations:\", combinations)\n"
   ]
  },
  {
   "cell_type": "code",
   "execution_count": null,
   "id": "f9c31d65-3a57-42c3-83df-86dc2fe5a89d",
   "metadata": {},
   "outputs": [],
   "source": []
  }
 ],
 "metadata": {
  "kernelspec": {
   "display_name": "Python 3 (ipykernel)",
   "language": "python",
   "name": "python3"
  },
  "language_info": {
   "codemirror_mode": {
    "name": "ipython",
    "version": 3
   },
   "file_extension": ".py",
   "mimetype": "text/x-python",
   "name": "python",
   "nbconvert_exporter": "python",
   "pygments_lexer": "ipython3",
   "version": "3.10.8"
  }
 },
 "nbformat": 4,
 "nbformat_minor": 5
}
